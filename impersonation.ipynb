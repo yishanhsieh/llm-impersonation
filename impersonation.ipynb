{
 "cells": [
  {
   "cell_type": "code",
   "execution_count": null,
   "metadata": {},
   "outputs": [],
   "source": [
    "#pip install openai"
   ]
  },
  {
   "cell_type": "code",
   "execution_count": null,
   "metadata": {},
   "outputs": [],
   "source": [
    "#test\n",
    "import os\n",
    "from openai import OpenAI\n",
    "\n",
    "client = OpenAI(api_key=api_key)\n",
    "\n",
    "response = client.responses.create(\n",
    "    model=\"gpt-4o\",\n",
    "    instructions=\"You are a coding assistant that talks like a pirate.\",\n",
    "    input=\"How do I check if a Python object is an instance of a class?\",\n",
    ")\n",
    "\n",
    "print(response.output_text)"
   ]
  },
  {
   "cell_type": "code",
   "execution_count": 38,
   "metadata": {},
   "outputs": [],
   "source": [
    "import pandas as pd\n",
    "\n",
    "df = pd.read_csv(\"yishan_answers.csv\")\n",
    "\n",
    "# Combine past answers into a single string\n",
    "yishan_knowledge = \"\\n\".join([f\"Q: {row['Question']}\\nA: {row['Answer']}\" for _, row in df.iterrows()])\n",
    "# print(yishan_knowledge)"
   ]
  },
  {
   "cell_type": "code",
   "execution_count": null,
   "metadata": {},
   "outputs": [
    {
     "data": {
      "text/html": [
       "<div>\n",
       "<style scoped>\n",
       "    .dataframe tbody tr th:only-of-type {\n",
       "        vertical-align: middle;\n",
       "    }\n",
       "\n",
       "    .dataframe tbody tr th {\n",
       "        vertical-align: top;\n",
       "    }\n",
       "\n",
       "    .dataframe thead th {\n",
       "        text-align: right;\n",
       "    }\n",
       "</style>\n",
       "<table border=\"1\" class=\"dataframe\">\n",
       "  <thead>\n",
       "    <tr style=\"text-align: right;\">\n",
       "      <th></th>\n",
       "      <th>Question</th>\n",
       "      <th>Answer</th>\n",
       "    </tr>\n",
       "  </thead>\n",
       "  <tbody>\n",
       "    <tr>\n",
       "      <th>0</th>\n",
       "      <td>What are some of the biggest challenges you fa...</td>\n",
       "      <td>Making friends from different culture is diffi...</td>\n",
       "    </tr>\n",
       "    <tr>\n",
       "      <th>1</th>\n",
       "      <td>How do you make friends and build a social lif...</td>\n",
       "      <td>I did part-time jobs at a school center, and a...</td>\n",
       "    </tr>\n",
       "    <tr>\n",
       "      <th>2</th>\n",
       "      <td>What are some underrated travel destinations t...</td>\n",
       "      <td>Some parks in Bloomington are good enough for ...</td>\n",
       "    </tr>\n",
       "    <tr>\n",
       "      <th>3</th>\n",
       "      <td>How do you manage travel expenses while studyi...</td>\n",
       "      <td>I traveled out of state not more than 2 times ...</td>\n",
       "    </tr>\n",
       "    <tr>\n",
       "      <th>4</th>\n",
       "      <td>What is one place in the world that you���ve a...</td>\n",
       "      <td>I really want to visit Mexico after I watched ...</td>\n",
       "    </tr>\n",
       "  </tbody>\n",
       "</table>\n",
       "</div>"
      ],
      "text/plain": [
       "                                            Question  \\\n",
       "0  What are some of the biggest challenges you fa...   \n",
       "1  How do you make friends and build a social lif...   \n",
       "2  What are some underrated travel destinations t...   \n",
       "3  How do you manage travel expenses while studyi...   \n",
       "4  What is one place in the world that you���ve a...   \n",
       "\n",
       "                                              Answer  \n",
       "0  Making friends from different culture is diffi...  \n",
       "1  I did part-time jobs at a school center, and a...  \n",
       "2  Some parks in Bloomington are good enough for ...  \n",
       "3  I traveled out of state not more than 2 times ...  \n",
       "4  I really want to visit Mexico after I watched ...  "
      ]
     },
     "execution_count": 30,
     "metadata": {},
     "output_type": "execute_result"
    }
   ],
   "source": [
    "df_test = pd.read_csv('yishan_test.csv')\n",
    "df_test.head()"
   ]
  },
  {
   "cell_type": "code",
   "execution_count": 36,
   "metadata": {},
   "outputs": [
    {
     "data": {
      "text/plain": [
       "'What are some of the biggest challenges you face when adjusting to a new culture?'"
      ]
     },
     "execution_count": 36,
     "metadata": {},
     "output_type": "execute_result"
    }
   ],
   "source": [
    "df_test[\"Question\"][0]"
   ]
  },
  {
   "cell_type": "code",
   "execution_count": 39,
   "metadata": {},
   "outputs": [],
   "source": [
    "def zero_shot(question, knowledge):\n",
    "    prompt = f\"\"\"You are Yishan. Here are some of Yishan's past answers:\n",
    "    {knowledge}\n",
    "    Based on these answers, respond in Yishan's style.\n",
    "    Question:{question}\n",
    "    Answer:\"\"\"\n",
    "    \n",
    "    \n",
    "    response = client.responses.create(\n",
    "        model = 'gpt-4o',\n",
    "        input=[\n",
    "            {\n",
    "                \"role\":\"user\",\n",
    "                \"content\":prompt\n",
    "            }]\n",
    "\n",
    "    )\n",
    "    return response.output_text"
   ]
  },
  {
   "cell_type": "code",
   "execution_count": 40,
   "metadata": {},
   "outputs": [],
   "source": [
    "def chain_of_thought(question, knowledge):\n",
    "    prompt = f\"\"\"You are Yishan. Think step by step before answering.\n",
    "    Here are some of Yishan's past answers:\n",
    "    {knowledge}\n",
    "    Based on these answers, respond in Yishan's style\n",
    "\n",
    "    Question: {question}\n",
    "    Answer:\"\"\"\n",
    "\n",
    "    response = client.responses.create(\n",
    "        model = 'gpt-4o',\n",
    "        input=[\n",
    "            {\n",
    "                \"role\":\"user\",\n",
    "                \"content\":prompt\n",
    "            }]\n",
    "\n",
    "    )\n",
    "    return response.output_text\n",
    "  "
   ]
  },
  {
   "cell_type": "code",
   "execution_count": 42,
   "metadata": {},
   "outputs": [],
   "source": [
    "question = df_test[\"Question\"][0]\n",
    "chain_of_thought_response = chain_of_thought(question, yishan_knowledge)\n",
    "zero_shot_response = zero_shot(question, yishan_knowledge)"
   ]
  },
  {
   "cell_type": "code",
   "execution_count": 43,
   "metadata": {},
   "outputs": [
    {
     "name": "stdout",
     "output_type": "stream",
     "text": [
      "When adjusting to a new culture, I find that the biggest challenges are understanding and adapting to social norms and communication styles. Every culture has its unique way of interacting, whether it's how people greet each other or express their emotions. It can be tricky to navigate these differences and ensure I don't unintentionally offend anyone. Additionally, language barriers can sometimes add to the complexity, making it harder to connect deeply with others. Lastly, missing familiar routines and comforts from home can be tough, but I try to embrace the adventure and learn as much as I can.\n",
      "Adjusting to a new culture can be quite challenging. One of the biggest challenges I face is dealing with cultural misunderstandings. Each culture has its own set of norms and values, and it takes time to learn and adapt to them. Language barriers can also make communication tricky, as nuances and expressions may not translate perfectly. Additionally, adjusting to different social dynamics and expectations can be overwhelming. However, I find that keeping an open mind, being patient, and actively engaging with locals helps ease the transition and make the experience enriching.\n"
     ]
    }
   ],
   "source": [
    "print(chain_of_thought_response)\n",
    "print(zero_shot_response)"
   ]
  },
  {
   "cell_type": "code",
   "execution_count": 46,
   "metadata": {},
   "outputs": [],
   "source": [
    "# get cosine similarity\n",
    "\n",
    "import math\n",
    "import re\n",
    "from collections import Counter\n",
    "\n",
    "WORD = re.compile(r\"\\w+\")\n",
    "\n",
    "\n",
    "def get_cosine(vec1, vec2):\n",
    "    intersection = set(vec1.keys()) & set(vec2.keys())\n",
    "    numerator = sum([vec1[x] * vec2[x] for x in intersection])\n",
    "\n",
    "    sum1 = sum([vec1[x] ** 2 for x in list(vec1.keys())])\n",
    "    sum2 = sum([vec2[x] ** 2 for x in list(vec2.keys())])\n",
    "    denominator = math.sqrt(sum1) * math.sqrt(sum2)\n",
    "\n",
    "    if not denominator:\n",
    "        return 0.0\n",
    "    else:\n",
    "        return float(numerator) / denominator"
   ]
  },
  {
   "cell_type": "code",
   "execution_count": 47,
   "metadata": {},
   "outputs": [],
   "source": [
    "def text_to_vector(text):\n",
    "    words = WORD.findall(text)\n",
    "    return Counter(words)"
   ]
  },
  {
   "cell_type": "code",
   "execution_count": 50,
   "metadata": {},
   "outputs": [
    {
     "data": {
      "text/plain": [
       "\"Making friends from different culture is difficult for me. I'm worried about mentioning something forbidden or controversial in their religion or politics. \""
      ]
     },
     "execution_count": 50,
     "metadata": {},
     "output_type": "execute_result"
    }
   ],
   "source": [
    "answer = df_test['Answer'][0]\n",
    "answer"
   ]
  },
  {
   "cell_type": "code",
   "execution_count": 51,
   "metadata": {},
   "outputs": [
    {
     "name": "stdout",
     "output_type": "stream",
     "text": [
      "Zero shot cosine: 0.09230769230769231\n"
     ]
    }
   ],
   "source": [
    "vector1 = text_to_vector(zero_shot_response)\n",
    "vector2 = text_to_vector(answer)\n",
    "cosine = get_cosine(vector1, vector2)\n",
    "print('Zero shot cosine:', cosine)"
   ]
  },
  {
   "cell_type": "code",
   "execution_count": 52,
   "metadata": {},
   "outputs": [
    {
     "name": "stdout",
     "output_type": "stream",
     "text": [
      "Chain of thoughts cosine: 0.14586499149789456\n"
     ]
    }
   ],
   "source": [
    "vector1 = text_to_vector(chain_of_thought_response)\n",
    "vector2 = text_to_vector(answer)\n",
    "cosine = get_cosine(vector1, vector2)\n",
    "print('Chain of thoughts cosine:', cosine)"
   ]
  }
 ],
 "metadata": {
  "kernelspec": {
   "display_name": "Python 3",
   "language": "python",
   "name": "python3"
  },
  "language_info": {
   "codemirror_mode": {
    "name": "ipython",
    "version": 3
   },
   "file_extension": ".py",
   "mimetype": "text/x-python",
   "name": "python",
   "nbconvert_exporter": "python",
   "pygments_lexer": "ipython3",
   "version": "3.12.9"
  }
 },
 "nbformat": 4,
 "nbformat_minor": 2
}
